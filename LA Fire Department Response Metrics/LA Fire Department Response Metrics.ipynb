{
 "metadata": {
  "name": "",
  "signature": "sha256:a8b1b7755b5809949003774553af2a6ab92e0b4177fd057f48e593bdbc476bde"
 },
 "nbformat": 3,
 "nbformat_minor": 0,
 "worksheets": [
  {
   "cells": [
    {
     "cell_type": "heading",
     "level": 1,
     "metadata": {},
     "source": [
      "LA Fire Department Response Metrics"
     ]
    },
    {
     "cell_type": "markdown",
     "metadata": {},
     "source": [
      "<a href='https://data.lacity.org/A-Safe-City/LAFD_ResponseMetrics_RawData/cthf-nngn'>Original Dataset</a>"
     ]
    },
    {
     "cell_type": "heading",
     "level": 2,
     "metadata": {},
     "source": [
      "Please unzip the file in the directory before running this script"
     ]
    },
    {
     "cell_type": "code",
     "collapsed": false,
     "input": [
      "import pandas as pd\n",
      "import numpy as np"
     ],
     "language": "python",
     "metadata": {},
     "outputs": [],
     "prompt_number": 8
    },
    {
     "cell_type": "code",
     "collapsed": false,
     "input": [
      "data = pd.read_csv(\"LAFD_ResponseMetrics_RawData.csv\")\n",
      "data.head()"
     ],
     "language": "python",
     "metadata": {},
     "outputs": [
      {
       "html": [
        "<div style=\"max-height:1000px;max-width:1500px;overflow:auto;\">\n",
        "<table border=\"1\" class=\"dataframe\">\n",
        "  <thead>\n",
        "    <tr style=\"text-align: right;\">\n",
        "      <th></th>\n",
        "      <th>Randomized Incident Number</th>\n",
        "      <th>First in District</th>\n",
        "      <th>Emergency Dispatch Code</th>\n",
        "      <th>Dispatch Sequence</th>\n",
        "      <th>Dispatch Status</th>\n",
        "      <th>Unit Type</th>\n",
        "      <th>PPE Level</th>\n",
        "      <th>Incident Creation Time (GMT)</th>\n",
        "      <th>Time of Dispatch (GMT)</th>\n",
        "      <th>En Route Time (GMT)</th>\n",
        "      <th>On Scene Time (GMT)</th>\n",
        "    </tr>\n",
        "  </thead>\n",
        "  <tbody>\n",
        "    <tr>\n",
        "      <th>0</th>\n",
        "      <td> 201301000022</td>\n",
        "      <td> 93</td>\n",
        "      <td> Emergency</td>\n",
        "      <td>NaN</td>\n",
        "      <td> NaN</td>\n",
        "      <td>                       NaN</td>\n",
        "      <td> NaN</td>\n",
        "      <td> 23:00:39</td>\n",
        "      <td>      NaN</td>\n",
        "      <td>      NaN</td>\n",
        "      <td>      NaN</td>\n",
        "    </tr>\n",
        "    <tr>\n",
        "      <th>1</th>\n",
        "      <td> 201301000022</td>\n",
        "      <td>NaN</td>\n",
        "      <td>       NaN</td>\n",
        "      <td>  1</td>\n",
        "      <td> QTR</td>\n",
        "      <td>                 T - Truck</td>\n",
        "      <td> EMS</td>\n",
        "      <td>      NaN</td>\n",
        "      <td> 23:01:27</td>\n",
        "      <td> 23:01:58</td>\n",
        "      <td> 23:05:02</td>\n",
        "    </tr>\n",
        "    <tr>\n",
        "      <th>2</th>\n",
        "      <td> 201301000022</td>\n",
        "      <td>NaN</td>\n",
        "      <td>       NaN</td>\n",
        "      <td>  2</td>\n",
        "      <td> QTR</td>\n",
        "      <td>                E - Engine</td>\n",
        "      <td> EMS</td>\n",
        "      <td>      NaN</td>\n",
        "      <td> 23:01:27</td>\n",
        "      <td> 23:01:58</td>\n",
        "      <td> 23:05:02</td>\n",
        "    </tr>\n",
        "    <tr>\n",
        "      <th>3</th>\n",
        "      <td> 201301000022</td>\n",
        "      <td>NaN</td>\n",
        "      <td>       NaN</td>\n",
        "      <td>  3</td>\n",
        "      <td> RAD</td>\n",
        "      <td> RA - ALS Rescue Ambulance</td>\n",
        "      <td> EMS</td>\n",
        "      <td>      NaN</td>\n",
        "      <td> 23:01:27</td>\n",
        "      <td> 23:02:22</td>\n",
        "      <td> 23:06:46</td>\n",
        "    </tr>\n",
        "    <tr>\n",
        "      <th>4</th>\n",
        "      <td> 201301000028</td>\n",
        "      <td> 12</td>\n",
        "      <td> Emergency</td>\n",
        "      <td>NaN</td>\n",
        "      <td> NaN</td>\n",
        "      <td>                       NaN</td>\n",
        "      <td> NaN</td>\n",
        "      <td> 23:50:43</td>\n",
        "      <td>      NaN</td>\n",
        "      <td>      NaN</td>\n",
        "      <td>      NaN</td>\n",
        "    </tr>\n",
        "  </tbody>\n",
        "</table>\n",
        "</div>"
       ],
       "metadata": {},
       "output_type": "pyout",
       "prompt_number": 9,
       "text": [
        "   Randomized Incident Number  First in District Emergency Dispatch Code  \\\n",
        "0                201301000022                 93               Emergency   \n",
        "1                201301000022                NaN                     NaN   \n",
        "2                201301000022                NaN                     NaN   \n",
        "3                201301000022                NaN                     NaN   \n",
        "4                201301000028                 12               Emergency   \n",
        "\n",
        "   Dispatch Sequence Dispatch Status                  Unit Type PPE Level  \\\n",
        "0                NaN             NaN                        NaN       NaN   \n",
        "1                  1             QTR                  T - Truck       EMS   \n",
        "2                  2             QTR                 E - Engine       EMS   \n",
        "3                  3             RAD  RA - ALS Rescue Ambulance       EMS   \n",
        "4                NaN             NaN                        NaN       NaN   \n",
        "\n",
        "  Incident Creation Time (GMT) Time of Dispatch (GMT) En Route Time (GMT)  \\\n",
        "0                     23:00:39                    NaN                 NaN   \n",
        "1                          NaN               23:01:27            23:01:58   \n",
        "2                          NaN               23:01:27            23:01:58   \n",
        "3                          NaN               23:01:27            23:02:22   \n",
        "4                     23:50:43                    NaN                 NaN   \n",
        "\n",
        "  On Scene Time (GMT)  \n",
        "0                 NaN  \n",
        "1            23:05:02  \n",
        "2            23:05:02  \n",
        "3            23:06:46  \n",
        "4                 NaN  "
       ]
      }
     ],
     "prompt_number": 9
    },
    {
     "cell_type": "code",
     "collapsed": false,
     "input": [
      "fullData = data.copy(deep=True)\n",
      "fullData = fullData.dropna(how='any')\n",
      "fullData"
     ],
     "language": "python",
     "metadata": {},
     "outputs": [
      {
       "html": [
        "<div style=\"max-height:1000px;max-width:1500px;overflow:auto;\">\n",
        "<table border=\"1\" class=\"dataframe\">\n",
        "  <thead>\n",
        "    <tr style=\"text-align: right;\">\n",
        "      <th></th>\n",
        "      <th>Randomized Incident Number</th>\n",
        "      <th>First in District</th>\n",
        "      <th>Emergency Dispatch Code</th>\n",
        "      <th>Dispatch Sequence</th>\n",
        "      <th>Dispatch Status</th>\n",
        "      <th>Unit Type</th>\n",
        "      <th>PPE Level</th>\n",
        "      <th>Incident Creation Time (GMT)</th>\n",
        "      <th>Time of Dispatch (GMT)</th>\n",
        "      <th>En Route Time (GMT)</th>\n",
        "      <th>On Scene Time (GMT)</th>\n",
        "    </tr>\n",
        "  </thead>\n",
        "  <tbody>\n",
        "  </tbody>\n",
        "</table>\n",
        "</div>"
       ],
       "metadata": {},
       "output_type": "pyout",
       "prompt_number": 13,
       "text": [
        "Empty DataFrame\n",
        "Columns: [Randomized Incident Number, First in District, Emergency Dispatch Code, Dispatch Sequence, Dispatch Status, Unit Type, PPE Level, Incident Creation Time (GMT), Time of Dispatch (GMT), En Route Time (GMT), On Scene Time (GMT)]\n",
        "Index: []"
       ]
      }
     ],
     "prompt_number": 13
    },
    {
     "cell_type": "markdown",
     "metadata": {},
     "source": [
      "So it seems to be the case that every row has at least one missing value. *sigh*"
     ]
    },
    {
     "cell_type": "code",
     "collapsed": false,
     "input": [
      "fullData = data.copy(deep=True)\n",
      "fullData = fullData.dropna(how='all')\n",
      "len(fullData)"
     ],
     "language": "python",
     "metadata": {},
     "outputs": [
      {
       "metadata": {},
       "output_type": "pyout",
       "prompt_number": 14,
       "text": [
        "2739892"
       ]
      }
     ],
     "prompt_number": 14
    },
    {
     "cell_type": "code",
     "collapsed": false,
     "input": [
      "len(data)-len(fullData)"
     ],
     "language": "python",
     "metadata": {},
     "outputs": [
      {
       "metadata": {},
       "output_type": "pyout",
       "prompt_number": 15,
       "text": [
        "0"
       ]
      }
     ],
     "prompt_number": 15
    },
    {
     "cell_type": "markdown",
     "metadata": {},
     "source": [
      "No row has completely missing data."
     ]
    },
    {
     "cell_type": "code",
     "collapsed": false,
     "input": [],
     "language": "python",
     "metadata": {},
     "outputs": []
    }
   ],
   "metadata": {}
  }
 ]
}