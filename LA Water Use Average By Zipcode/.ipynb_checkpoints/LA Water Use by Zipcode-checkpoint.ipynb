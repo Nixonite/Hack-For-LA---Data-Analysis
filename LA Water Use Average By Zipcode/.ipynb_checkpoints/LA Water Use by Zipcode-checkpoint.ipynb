{
 "metadata": {
  "name": "",
  "signature": "sha256:d3a4e435259f569145a31bf5a944e8fc9525cdf91c948cd5ec2756a1daa9648c"
 },
 "nbformat": 3,
 "nbformat_minor": 0,
 "worksheets": [
  {
   "cells": [
    {
     "cell_type": "heading",
     "level": 1,
     "metadata": {},
     "source": [
      "LA Water Use by Zipcode"
     ]
    },
    {
     "cell_type": "markdown",
     "metadata": {},
     "source": [
      "<a href='https://data.lacity.org/A-Livable-and-Sustainable-City/Water-Use-Average-By-Zipcode/pzbs-vimf'>Original Dataset</a>"
     ]
    },
    {
     "cell_type": "code",
     "collapsed": false,
     "input": [
      "import pandas as pd\n",
      "import numpy as np"
     ],
     "language": "python",
     "metadata": {},
     "outputs": [],
     "prompt_number": 17
    },
    {
     "cell_type": "code",
     "collapsed": false,
     "input": [
      "data = pd.read_csv(\"Water_Use_Average_By_Zipcode.csv\")\n",
      "data.head()"
     ],
     "language": "python",
     "metadata": {},
     "outputs": [
      {
       "html": [
        "<div style=\"max-height:1000px;max-width:1500px;overflow:auto;\">\n",
        "<table border=\"1\" class=\"dataframe\">\n",
        "  <thead>\n",
        "    <tr style=\"text-align: right;\">\n",
        "      <th></th>\n",
        "      <th>FY 05/06</th>\n",
        "      <th>FY 06/07</th>\n",
        "      <th>FY 07/08</th>\n",
        "      <th>FY 08/09</th>\n",
        "      <th>FY 09/10</th>\n",
        "      <th>FY 10/11</th>\n",
        "      <th>FY 11/12</th>\n",
        "      <th>FY 12/13</th>\n",
        "      <th>Location 1</th>\n",
        "    </tr>\n",
        "  </thead>\n",
        "  <tbody>\n",
        "    <tr>\n",
        "      <th>0</th>\n",
        "      <td> 20</td>\n",
        "      <td> 21</td>\n",
        "      <td> 19</td>\n",
        "      <td> 18</td>\n",
        "      <td> 15</td>\n",
        "      <td> 14</td>\n",
        "      <td> 15</td>\n",
        "      <td> 10</td>\n",
        "      <td> 90001\\n(33.973271508000494, -118.24896959899968)</td>\n",
        "    </tr>\n",
        "    <tr>\n",
        "      <th>1</th>\n",
        "      <td> 20</td>\n",
        "      <td> 21</td>\n",
        "      <td> 19</td>\n",
        "      <td> 18</td>\n",
        "      <td> 17</td>\n",
        "      <td> 16</td>\n",
        "      <td> 17</td>\n",
        "      <td> 11</td>\n",
        "      <td>  90002\\n(33.94895251300045, -118.24697958699971)</td>\n",
        "    </tr>\n",
        "    <tr>\n",
        "      <th>2</th>\n",
        "      <td> 21</td>\n",
        "      <td> 20</td>\n",
        "      <td> 19</td>\n",
        "      <td> 19</td>\n",
        "      <td> 18</td>\n",
        "      <td> 17</td>\n",
        "      <td> 17</td>\n",
        "      <td> 10</td>\n",
        "      <td>  90003\\n(33.96335186100049, -118.27393599999971)</td>\n",
        "    </tr>\n",
        "    <tr>\n",
        "      <th>3</th>\n",
        "      <td> 41</td>\n",
        "      <td> 42</td>\n",
        "      <td> 39</td>\n",
        "      <td> 38</td>\n",
        "      <td> 35</td>\n",
        "      <td> 34</td>\n",
        "      <td> 34</td>\n",
        "      <td> 18</td>\n",
        "      <td>  90004\\n(34.07572239300049, -118.30301712299968)</td>\n",
        "    </tr>\n",
        "    <tr>\n",
        "      <th>4</th>\n",
        "      <td> 74</td>\n",
        "      <td> 74</td>\n",
        "      <td> 67</td>\n",
        "      <td> 65</td>\n",
        "      <td> 63</td>\n",
        "      <td> 63</td>\n",
        "      <td> 63</td>\n",
        "      <td> 25</td>\n",
        "      <td>  90005\\n(34.05907233200048, -118.30301712299968)</td>\n",
        "    </tr>\n",
        "  </tbody>\n",
        "</table>\n",
        "</div>"
       ],
       "metadata": {},
       "output_type": "pyout",
       "prompt_number": 18,
       "text": [
        "   FY 05/06  FY 06/07  FY 07/08  FY 08/09  FY 09/10  FY 10/11  FY 11/12  \\\n",
        "0        20        21        19        18        15        14        15   \n",
        "1        20        21        19        18        17        16        17   \n",
        "2        21        20        19        19        18        17        17   \n",
        "3        41        42        39        38        35        34        34   \n",
        "4        74        74        67        65        63        63        63   \n",
        "\n",
        "   FY 12/13                                        Location 1  \n",
        "0        10  90001\\n(33.973271508000494, -118.24896959899968)  \n",
        "1        11   90002\\n(33.94895251300045, -118.24697958699971)  \n",
        "2        10   90003\\n(33.96335186100049, -118.27393599999971)  \n",
        "3        18   90004\\n(34.07572239300049, -118.30301712299968)  \n",
        "4        25   90005\\n(34.05907233200048, -118.30301712299968)  "
       ]
      }
     ],
     "prompt_number": 18
    },
    {
     "cell_type": "markdown",
     "metadata": {},
     "source": [
      "What's going on in that last column? If those are zip codes and then latitude/longitude, we'll need to clean it up."
     ]
    },
    {
     "cell_type": "code",
     "collapsed": false,
     "input": [
      "data['Location 1']"
     ],
     "language": "python",
     "metadata": {},
     "outputs": [
      {
       "metadata": {},
       "output_type": "pyout",
       "prompt_number": 19,
       "text": [
        "0     90001\\n(33.973271508000494, -118.24896959899968)\n",
        "1      90002\\n(33.94895251300045, -118.24697958699971)\n",
        "2      90003\\n(33.96335186100049, -118.27393599999971)\n",
        "3      90004\\n(34.07572239300049, -118.30301712299968)\n",
        "4      90005\\n(34.05907233200048, -118.30301712299968)\n",
        "5       90006\\n(34.05010424100044, -118.2926890439997)\n",
        "6      90007\\n(34.02833141800045, -118.28507659499968)\n",
        "7      90008\\n(34.01097312100046, -118.34158773599972)\n",
        "8      90010\\n(34.06139256500046, -118.30969974099969)\n",
        "9      90011\\n(34.00790120200048, -118.25903697699971)\n",
        "10    90012\\n(34.059480762000476, -118.24204800599972)\n",
        "11     90013\\n(34.04726260700045, -118.24609754999972)\n",
        "12     90015\\n(34.04012376300045, -118.26498963499972)\n",
        "13     90016\\n(34.02888323300044, -118.35308896599969)\n",
        "14     90017\\n(34.05230281300044, -118.26338632799968)\n",
        "...\n",
        "104      91402\\n(34.22575108800049, -118.4489267519997)\n",
        "105      91403\\n(34.15359358100045, -118.4596676059997)\n",
        "106      91405\\n(34.20047184600048, -118.4486964669997)\n",
        "107    91406\\n(34.199811405000446, -118.48688906499967)\n",
        "108     91411\\n(34.17933339400048, -118.45792960399967)\n",
        "109     91423\\n(34.15306349100047, -118.43295885699968)\n",
        "110      91436\\n(34.15384124700046, -118.4873366009997)\n",
        "111    91504\\n(34.198251548000485, -118.33049928199972)\n",
        "112     91505\\n(34.16767140000047, -118.34449888999967)\n",
        "113    91601\\n(34.167132618000494, -118.37252852099971)\n",
        "114      91602\\n(34.15134286900047, -118.3690785869997)\n",
        "115      91604\\n(34.14446038000045, -118.3942796179997)\n",
        "116     91605\\n(34.20546425700047, -118.40193986299971)\n",
        "117      91606\\n(34.18673293900048, -118.3868062089997)\n",
        "118     91607\\n(34.16615064800044, -118.39933720499971)\n",
        "Name: Location 1, Length: 119, dtype: object"
       ]
      }
     ],
     "prompt_number": 19
    },
    {
     "cell_type": "code",
     "collapsed": false,
     "input": [
      "temp = data['Location 1'][0]\n",
      "temp"
     ],
     "language": "python",
     "metadata": {},
     "outputs": [
      {
       "metadata": {},
       "output_type": "pyout",
       "prompt_number": 20,
       "text": [
        "'90001\\n(33.973271508000494, -118.24896959899968)'"
       ]
      }
     ],
     "prompt_number": 20
    },
    {
     "cell_type": "code",
     "collapsed": false,
     "input": [
      "def cleanZipLocation(messy):\n",
      "    return messy.split('\\n')\n",
      "\n",
      "print data.iloc[0][-1]\n",
      "vals = data['Location 1'].apply(cleanZipLocation)\n",
      "zips = [x[0] for x in vals]\n",
      "locs = [x[1] for x in vals]\n",
      "lattitudes = [x.split(',')[0][1:] for x in locs]\n",
      "longitudes = [x.split(',')[1][0:-1] for x in locs]\n",
      "data['Zip'] = zips\n",
      "data['Longitude'] = longitudes\n",
      "data['Latitude'] = lattitudes\n",
      "del data['Location 1']\n",
      "data.head()"
     ],
     "language": "python",
     "metadata": {},
     "outputs": [
      {
       "output_type": "stream",
       "stream": "stdout",
       "text": [
        "90001\n",
        "(33.973271508000494, -118.24896959899968)\n"
       ]
      },
      {
       "html": [
        "<div style=\"max-height:1000px;max-width:1500px;overflow:auto;\">\n",
        "<table border=\"1\" class=\"dataframe\">\n",
        "  <thead>\n",
        "    <tr style=\"text-align: right;\">\n",
        "      <th></th>\n",
        "      <th>FY 05/06</th>\n",
        "      <th>FY 06/07</th>\n",
        "      <th>FY 07/08</th>\n",
        "      <th>FY 08/09</th>\n",
        "      <th>FY 09/10</th>\n",
        "      <th>FY 10/11</th>\n",
        "      <th>FY 11/12</th>\n",
        "      <th>FY 12/13</th>\n",
        "      <th>Zip</th>\n",
        "      <th>Longitude</th>\n",
        "      <th>Latitude</th>\n",
        "    </tr>\n",
        "  </thead>\n",
        "  <tbody>\n",
        "    <tr>\n",
        "      <th>0</th>\n",
        "      <td> 20</td>\n",
        "      <td> 21</td>\n",
        "      <td> 19</td>\n",
        "      <td> 18</td>\n",
        "      <td> 15</td>\n",
        "      <td> 14</td>\n",
        "      <td> 15</td>\n",
        "      <td> 10</td>\n",
        "      <td> 90001</td>\n",
        "      <td>  -118.24896959899968</td>\n",
        "      <td> 33.973271508000494</td>\n",
        "    </tr>\n",
        "    <tr>\n",
        "      <th>1</th>\n",
        "      <td> 20</td>\n",
        "      <td> 21</td>\n",
        "      <td> 19</td>\n",
        "      <td> 18</td>\n",
        "      <td> 17</td>\n",
        "      <td> 16</td>\n",
        "      <td> 17</td>\n",
        "      <td> 11</td>\n",
        "      <td> 90002</td>\n",
        "      <td>  -118.24697958699971</td>\n",
        "      <td>  33.94895251300045</td>\n",
        "    </tr>\n",
        "    <tr>\n",
        "      <th>2</th>\n",
        "      <td> 21</td>\n",
        "      <td> 20</td>\n",
        "      <td> 19</td>\n",
        "      <td> 19</td>\n",
        "      <td> 18</td>\n",
        "      <td> 17</td>\n",
        "      <td> 17</td>\n",
        "      <td> 10</td>\n",
        "      <td> 90003</td>\n",
        "      <td>  -118.27393599999971</td>\n",
        "      <td>  33.96335186100049</td>\n",
        "    </tr>\n",
        "    <tr>\n",
        "      <th>3</th>\n",
        "      <td> 41</td>\n",
        "      <td> 42</td>\n",
        "      <td> 39</td>\n",
        "      <td> 38</td>\n",
        "      <td> 35</td>\n",
        "      <td> 34</td>\n",
        "      <td> 34</td>\n",
        "      <td> 18</td>\n",
        "      <td> 90004</td>\n",
        "      <td>  -118.30301712299968</td>\n",
        "      <td>  34.07572239300049</td>\n",
        "    </tr>\n",
        "    <tr>\n",
        "      <th>4</th>\n",
        "      <td> 74</td>\n",
        "      <td> 74</td>\n",
        "      <td> 67</td>\n",
        "      <td> 65</td>\n",
        "      <td> 63</td>\n",
        "      <td> 63</td>\n",
        "      <td> 63</td>\n",
        "      <td> 25</td>\n",
        "      <td> 90005</td>\n",
        "      <td>  -118.30301712299968</td>\n",
        "      <td>  34.05907233200048</td>\n",
        "    </tr>\n",
        "  </tbody>\n",
        "</table>\n",
        "</div>"
       ],
       "metadata": {},
       "output_type": "pyout",
       "prompt_number": 21,
       "text": [
        "   FY 05/06  FY 06/07  FY 07/08  FY 08/09  FY 09/10  FY 10/11  FY 11/12  \\\n",
        "0        20        21        19        18        15        14        15   \n",
        "1        20        21        19        18        17        16        17   \n",
        "2        21        20        19        19        18        17        17   \n",
        "3        41        42        39        38        35        34        34   \n",
        "4        74        74        67        65        63        63        63   \n",
        "\n",
        "   FY 12/13    Zip             Longitude            Latitude  \n",
        "0        10  90001   -118.24896959899968  33.973271508000494  \n",
        "1        11  90002   -118.24697958699971   33.94895251300045  \n",
        "2        10  90003   -118.27393599999971   33.96335186100049  \n",
        "3        18  90004   -118.30301712299968   34.07572239300049  \n",
        "4        25  90005   -118.30301712299968   34.05907233200048  "
       ]
      }
     ],
     "prompt_number": 21
    },
    {
     "cell_type": "markdown",
     "metadata": {},
     "source": [
      "Much better."
     ]
    },
    {
     "cell_type": "code",
     "collapsed": false,
     "input": [],
     "language": "python",
     "metadata": {},
     "outputs": []
    }
   ],
   "metadata": {}
  }
 ]
}