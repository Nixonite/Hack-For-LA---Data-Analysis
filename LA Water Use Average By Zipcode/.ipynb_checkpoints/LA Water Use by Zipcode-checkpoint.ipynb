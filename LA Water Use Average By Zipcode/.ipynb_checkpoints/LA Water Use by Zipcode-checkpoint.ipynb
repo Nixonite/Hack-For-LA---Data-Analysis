{
 "metadata": {
  "name": "",
  "signature": "sha256:ec3f326916baeca94d8213612b77e398d5c81282dafebaf053df4132f82d231c"
 },
 "nbformat": 3,
 "nbformat_minor": 0,
 "worksheets": [
  {
   "cells": [
    {
     "cell_type": "heading",
     "level": 1,
     "metadata": {},
     "source": [
      "LA Water Use by Zipcode"
     ]
    },
    {
     "cell_type": "markdown",
     "metadata": {},
     "source": [
      "<a href='https://data.lacity.org/A-Livable-and-Sustainable-City/Water-Use-Average-By-Zipcode/pzbs-vimf'>Original Dataset</a>"
     ]
    },
    {
     "cell_type": "code",
     "collapsed": false,
     "input": [
      "import pandas as pd\n",
      "import numpy as np\n",
      "import matplotlib.pyplot as plt\n",
      "%matplotlib inline"
     ],
     "language": "python",
     "metadata": {},
     "outputs": [],
     "prompt_number": 53
    },
    {
     "cell_type": "code",
     "collapsed": false,
     "input": [
      "data = pd.read_csv(\"Water_Use_Average_By_Zipcode.csv\")\n",
      "data.head()"
     ],
     "language": "python",
     "metadata": {},
     "outputs": [
      {
       "html": [
        "<div style=\"max-height:1000px;max-width:1500px;overflow:auto;\">\n",
        "<table border=\"1\" class=\"dataframe\">\n",
        "  <thead>\n",
        "    <tr style=\"text-align: right;\">\n",
        "      <th></th>\n",
        "      <th>FY 05/06</th>\n",
        "      <th>FY 06/07</th>\n",
        "      <th>FY 07/08</th>\n",
        "      <th>FY 08/09</th>\n",
        "      <th>FY 09/10</th>\n",
        "      <th>FY 10/11</th>\n",
        "      <th>FY 11/12</th>\n",
        "      <th>FY 12/13</th>\n",
        "      <th>Location 1</th>\n",
        "    </tr>\n",
        "  </thead>\n",
        "  <tbody>\n",
        "    <tr>\n",
        "      <th>0</th>\n",
        "      <td> 20</td>\n",
        "      <td> 21</td>\n",
        "      <td> 19</td>\n",
        "      <td> 18</td>\n",
        "      <td> 15</td>\n",
        "      <td> 14</td>\n",
        "      <td> 15</td>\n",
        "      <td> 10</td>\n",
        "      <td> 90001\\n(33.973271508000494, -118.24896959899968)</td>\n",
        "    </tr>\n",
        "    <tr>\n",
        "      <th>1</th>\n",
        "      <td> 20</td>\n",
        "      <td> 21</td>\n",
        "      <td> 19</td>\n",
        "      <td> 18</td>\n",
        "      <td> 17</td>\n",
        "      <td> 16</td>\n",
        "      <td> 17</td>\n",
        "      <td> 11</td>\n",
        "      <td>  90002\\n(33.94895251300045, -118.24697958699971)</td>\n",
        "    </tr>\n",
        "    <tr>\n",
        "      <th>2</th>\n",
        "      <td> 21</td>\n",
        "      <td> 20</td>\n",
        "      <td> 19</td>\n",
        "      <td> 19</td>\n",
        "      <td> 18</td>\n",
        "      <td> 17</td>\n",
        "      <td> 17</td>\n",
        "      <td> 10</td>\n",
        "      <td>  90003\\n(33.96335186100049, -118.27393599999971)</td>\n",
        "    </tr>\n",
        "    <tr>\n",
        "      <th>3</th>\n",
        "      <td> 41</td>\n",
        "      <td> 42</td>\n",
        "      <td> 39</td>\n",
        "      <td> 38</td>\n",
        "      <td> 35</td>\n",
        "      <td> 34</td>\n",
        "      <td> 34</td>\n",
        "      <td> 18</td>\n",
        "      <td>  90004\\n(34.07572239300049, -118.30301712299968)</td>\n",
        "    </tr>\n",
        "    <tr>\n",
        "      <th>4</th>\n",
        "      <td> 74</td>\n",
        "      <td> 74</td>\n",
        "      <td> 67</td>\n",
        "      <td> 65</td>\n",
        "      <td> 63</td>\n",
        "      <td> 63</td>\n",
        "      <td> 63</td>\n",
        "      <td> 25</td>\n",
        "      <td>  90005\\n(34.05907233200048, -118.30301712299968)</td>\n",
        "    </tr>\n",
        "  </tbody>\n",
        "</table>\n",
        "</div>"
       ],
       "metadata": {},
       "output_type": "pyout",
       "prompt_number": 54,
       "text": [
        "   FY 05/06  FY 06/07  FY 07/08  FY 08/09  FY 09/10  FY 10/11  FY 11/12  \\\n",
        "0        20        21        19        18        15        14        15   \n",
        "1        20        21        19        18        17        16        17   \n",
        "2        21        20        19        19        18        17        17   \n",
        "3        41        42        39        38        35        34        34   \n",
        "4        74        74        67        65        63        63        63   \n",
        "\n",
        "   FY 12/13                                        Location 1  \n",
        "0        10  90001\\n(33.973271508000494, -118.24896959899968)  \n",
        "1        11   90002\\n(33.94895251300045, -118.24697958699971)  \n",
        "2        10   90003\\n(33.96335186100049, -118.27393599999971)  \n",
        "3        18   90004\\n(34.07572239300049, -118.30301712299968)  \n",
        "4        25   90005\\n(34.05907233200048, -118.30301712299968)  "
       ]
      }
     ],
     "prompt_number": 54
    },
    {
     "cell_type": "markdown",
     "metadata": {},
     "source": [
      "What's going on in that last column? If those are zip codes and then latitude/longitude, we'll need to clean it up."
     ]
    },
    {
     "cell_type": "code",
     "collapsed": false,
     "input": [
      "data['Location 1']"
     ],
     "language": "python",
     "metadata": {},
     "outputs": [
      {
       "metadata": {},
       "output_type": "pyout",
       "prompt_number": 55,
       "text": [
        "0     90001\\n(33.973271508000494, -118.24896959899968)\n",
        "1      90002\\n(33.94895251300045, -118.24697958699971)\n",
        "2      90003\\n(33.96335186100049, -118.27393599999971)\n",
        "3      90004\\n(34.07572239300049, -118.30301712299968)\n",
        "4      90005\\n(34.05907233200048, -118.30301712299968)\n",
        "5       90006\\n(34.05010424100044, -118.2926890439997)\n",
        "6      90007\\n(34.02833141800045, -118.28507659499968)\n",
        "7      90008\\n(34.01097312100046, -118.34158773599972)\n",
        "8      90010\\n(34.06139256500046, -118.30969974099969)\n",
        "9      90011\\n(34.00790120200048, -118.25903697699971)\n",
        "10    90012\\n(34.059480762000476, -118.24204800599972)\n",
        "11     90013\\n(34.04726260700045, -118.24609754999972)\n",
        "12     90015\\n(34.04012376300045, -118.26498963499972)\n",
        "13     90016\\n(34.02888323300044, -118.35308896599969)\n",
        "14     90017\\n(34.05230281300044, -118.26338632799968)\n",
        "...\n",
        "104      91402\\n(34.22575108800049, -118.4489267519997)\n",
        "105      91403\\n(34.15359358100045, -118.4596676059997)\n",
        "106      91405\\n(34.20047184600048, -118.4486964669997)\n",
        "107    91406\\n(34.199811405000446, -118.48688906499967)\n",
        "108     91411\\n(34.17933339400048, -118.45792960399967)\n",
        "109     91423\\n(34.15306349100047, -118.43295885699968)\n",
        "110      91436\\n(34.15384124700046, -118.4873366009997)\n",
        "111    91504\\n(34.198251548000485, -118.33049928199972)\n",
        "112     91505\\n(34.16767140000047, -118.34449888999967)\n",
        "113    91601\\n(34.167132618000494, -118.37252852099971)\n",
        "114      91602\\n(34.15134286900047, -118.3690785869997)\n",
        "115      91604\\n(34.14446038000045, -118.3942796179997)\n",
        "116     91605\\n(34.20546425700047, -118.40193986299971)\n",
        "117      91606\\n(34.18673293900048, -118.3868062089997)\n",
        "118     91607\\n(34.16615064800044, -118.39933720499971)\n",
        "Name: Location 1, Length: 119, dtype: object"
       ]
      }
     ],
     "prompt_number": 55
    },
    {
     "cell_type": "code",
     "collapsed": false,
     "input": [
      "temp = data['Location 1'][0]\n",
      "temp"
     ],
     "language": "python",
     "metadata": {},
     "outputs": [
      {
       "metadata": {},
       "output_type": "pyout",
       "prompt_number": 56,
       "text": [
        "'90001\\n(33.973271508000494, -118.24896959899968)'"
       ]
      }
     ],
     "prompt_number": 56
    },
    {
     "cell_type": "code",
     "collapsed": false,
     "input": [
      "def cleanZipLocation(messy):\n",
      "    return messy.split('\\n')\n",
      "\n",
      "print data.iloc[0][-1]\n",
      "vals = data['Location 1'].apply(cleanZipLocation)\n",
      "zips = [x[0] for x in vals]\n",
      "locs = [x[1] for x in vals]\n",
      "lattitudes = [x.split(',')[0][1:] for x in locs]\n",
      "longitudes = [x.split(',')[1][0:-1] for x in locs]\n",
      "data['Zip'] = zips\n",
      "data['Longitude'] = longitudes\n",
      "data['Latitude'] = lattitudes\n",
      "del data['Location 1']\n",
      "data.head()"
     ],
     "language": "python",
     "metadata": {},
     "outputs": [
      {
       "output_type": "stream",
       "stream": "stdout",
       "text": [
        "90001\n",
        "(33.973271508000494, -118.24896959899968)\n"
       ]
      },
      {
       "html": [
        "<div style=\"max-height:1000px;max-width:1500px;overflow:auto;\">\n",
        "<table border=\"1\" class=\"dataframe\">\n",
        "  <thead>\n",
        "    <tr style=\"text-align: right;\">\n",
        "      <th></th>\n",
        "      <th>FY 05/06</th>\n",
        "      <th>FY 06/07</th>\n",
        "      <th>FY 07/08</th>\n",
        "      <th>FY 08/09</th>\n",
        "      <th>FY 09/10</th>\n",
        "      <th>FY 10/11</th>\n",
        "      <th>FY 11/12</th>\n",
        "      <th>FY 12/13</th>\n",
        "      <th>Zip</th>\n",
        "      <th>Longitude</th>\n",
        "      <th>Latitude</th>\n",
        "    </tr>\n",
        "  </thead>\n",
        "  <tbody>\n",
        "    <tr>\n",
        "      <th>0</th>\n",
        "      <td> 20</td>\n",
        "      <td> 21</td>\n",
        "      <td> 19</td>\n",
        "      <td> 18</td>\n",
        "      <td> 15</td>\n",
        "      <td> 14</td>\n",
        "      <td> 15</td>\n",
        "      <td> 10</td>\n",
        "      <td> 90001</td>\n",
        "      <td>  -118.24896959899968</td>\n",
        "      <td> 33.973271508000494</td>\n",
        "    </tr>\n",
        "    <tr>\n",
        "      <th>1</th>\n",
        "      <td> 20</td>\n",
        "      <td> 21</td>\n",
        "      <td> 19</td>\n",
        "      <td> 18</td>\n",
        "      <td> 17</td>\n",
        "      <td> 16</td>\n",
        "      <td> 17</td>\n",
        "      <td> 11</td>\n",
        "      <td> 90002</td>\n",
        "      <td>  -118.24697958699971</td>\n",
        "      <td>  33.94895251300045</td>\n",
        "    </tr>\n",
        "    <tr>\n",
        "      <th>2</th>\n",
        "      <td> 21</td>\n",
        "      <td> 20</td>\n",
        "      <td> 19</td>\n",
        "      <td> 19</td>\n",
        "      <td> 18</td>\n",
        "      <td> 17</td>\n",
        "      <td> 17</td>\n",
        "      <td> 10</td>\n",
        "      <td> 90003</td>\n",
        "      <td>  -118.27393599999971</td>\n",
        "      <td>  33.96335186100049</td>\n",
        "    </tr>\n",
        "    <tr>\n",
        "      <th>3</th>\n",
        "      <td> 41</td>\n",
        "      <td> 42</td>\n",
        "      <td> 39</td>\n",
        "      <td> 38</td>\n",
        "      <td> 35</td>\n",
        "      <td> 34</td>\n",
        "      <td> 34</td>\n",
        "      <td> 18</td>\n",
        "      <td> 90004</td>\n",
        "      <td>  -118.30301712299968</td>\n",
        "      <td>  34.07572239300049</td>\n",
        "    </tr>\n",
        "    <tr>\n",
        "      <th>4</th>\n",
        "      <td> 74</td>\n",
        "      <td> 74</td>\n",
        "      <td> 67</td>\n",
        "      <td> 65</td>\n",
        "      <td> 63</td>\n",
        "      <td> 63</td>\n",
        "      <td> 63</td>\n",
        "      <td> 25</td>\n",
        "      <td> 90005</td>\n",
        "      <td>  -118.30301712299968</td>\n",
        "      <td>  34.05907233200048</td>\n",
        "    </tr>\n",
        "  </tbody>\n",
        "</table>\n",
        "</div>"
       ],
       "metadata": {},
       "output_type": "pyout",
       "prompt_number": 57,
       "text": [
        "   FY 05/06  FY 06/07  FY 07/08  FY 08/09  FY 09/10  FY 10/11  FY 11/12  \\\n",
        "0        20        21        19        18        15        14        15   \n",
        "1        20        21        19        18        17        16        17   \n",
        "2        21        20        19        19        18        17        17   \n",
        "3        41        42        39        38        35        34        34   \n",
        "4        74        74        67        65        63        63        63   \n",
        "\n",
        "   FY 12/13    Zip             Longitude            Latitude  \n",
        "0        10  90001   -118.24896959899968  33.973271508000494  \n",
        "1        11  90002   -118.24697958699971   33.94895251300045  \n",
        "2        10  90003   -118.27393599999971   33.96335186100049  \n",
        "3        18  90004   -118.30301712299968   34.07572239300049  \n",
        "4        25  90005   -118.30301712299968   34.05907233200048  "
       ]
      }
     ],
     "prompt_number": 57
    },
    {
     "cell_type": "markdown",
     "metadata": {},
     "source": [
      "Much better."
     ]
    },
    {
     "cell_type": "code",
     "collapsed": false,
     "input": [
      "for i in range(len(data)):\n",
      "    plt.plot([6,7,8,9,10,11,12,13],data.iloc[i][0:-3].values,marker='x')\n",
      "\n",
      "plt.show()"
     ],
     "language": "python",
     "metadata": {},
     "outputs": [
      {
       "metadata": {},
       "output_type": "display_data",
       "png": "[encoded data removed]",
       "text": [
        "<matplotlib.figure.Figure at 0x10bad7e50>"
       ]
      }
     ],
     "prompt_number": 74
    },
    {
     "cell_type": "code",
     "collapsed": false,
     "input": [
      "len(data)"
     ],
     "language": "python",
     "metadata": {},
     "outputs": [
      {
       "metadata": {},
       "output_type": "pyout",
       "prompt_number": 75,
       "text": [
        "119"
       ]
      }
     ],
     "prompt_number": 75
    },
    {
     "cell_type": "code",
     "collapsed": false,
     "input": [
      "data[data['FY 09/10']>55]"
     ],
     "language": "python",
     "metadata": {},
     "outputs": [
      {
       "html": [
        "<div style=\"max-height:1000px;max-width:1500px;overflow:auto;\">\n",
        "<table border=\"1\" class=\"dataframe\">\n",
        "  <thead>\n",
        "    <tr style=\"text-align: right;\">\n",
        "      <th></th>\n",
        "      <th>FY 05/06</th>\n",
        "      <th>FY 06/07</th>\n",
        "      <th>FY 07/08</th>\n",
        "      <th>FY 08/09</th>\n",
        "      <th>FY 09/10</th>\n",
        "      <th>FY 10/11</th>\n",
        "      <th>FY 11/12</th>\n",
        "      <th>FY 12/13</th>\n",
        "      <th>Zip</th>\n",
        "      <th>Longitude</th>\n",
        "      <th>Latitude</th>\n",
        "    </tr>\n",
        "  </thead>\n",
        "  <tbody>\n",
        "    <tr>\n",
        "      <th>4 </th>\n",
        "      <td>  74</td>\n",
        "      <td>  74</td>\n",
        "      <td>  67</td>\n",
        "      <td>  65</td>\n",
        "      <td>  63</td>\n",
        "      <td>  63</td>\n",
        "      <td>  63</td>\n",
        "      <td> 25</td>\n",
        "      <td> 90005</td>\n",
        "      <td>  -118.30301712299968</td>\n",
        "      <td>  34.05907233200048</td>\n",
        "    </tr>\n",
        "    <tr>\n",
        "      <th>8 </th>\n",
        "      <td> 138</td>\n",
        "      <td> 138</td>\n",
        "      <td> 129</td>\n",
        "      <td> 128</td>\n",
        "      <td> 119</td>\n",
        "      <td> 120</td>\n",
        "      <td> 119</td>\n",
        "      <td>  9</td>\n",
        "      <td> 90010</td>\n",
        "      <td>  -118.30969974099969</td>\n",
        "      <td>  34.06139256500046</td>\n",
        "    </tr>\n",
        "    <tr>\n",
        "      <th>10</th>\n",
        "      <td> 117</td>\n",
        "      <td> 119</td>\n",
        "      <td> 107</td>\n",
        "      <td> 106</td>\n",
        "      <td> 101</td>\n",
        "      <td> 102</td>\n",
        "      <td> 101</td>\n",
        "      <td>  8</td>\n",
        "      <td> 90012</td>\n",
        "      <td>  -118.24204800599972</td>\n",
        "      <td> 34.059480762000476</td>\n",
        "    </tr>\n",
        "    <tr>\n",
        "      <th>14</th>\n",
        "      <td> 160</td>\n",
        "      <td> 164</td>\n",
        "      <td> 175</td>\n",
        "      <td> 176</td>\n",
        "      <td> 164</td>\n",
        "      <td> 157</td>\n",
        "      <td> 154</td>\n",
        "      <td> 11</td>\n",
        "      <td> 90017</td>\n",
        "      <td>  -118.26338632799968</td>\n",
        "      <td>  34.05230281300044</td>\n",
        "    </tr>\n",
        "    <tr>\n",
        "      <th>17</th>\n",
        "      <td>  98</td>\n",
        "      <td>  99</td>\n",
        "      <td>  93</td>\n",
        "      <td>  90</td>\n",
        "      <td>  84</td>\n",
        "      <td>  82</td>\n",
        "      <td>  82</td>\n",
        "      <td> 37</td>\n",
        "      <td> 90020</td>\n",
        "      <td>  -118.30164844599972</td>\n",
        "      <td>  34.06636325100044</td>\n",
        "    </tr>\n",
        "    <tr>\n",
        "      <th>20</th>\n",
        "      <td>  76</td>\n",
        "      <td>  76</td>\n",
        "      <td>  74</td>\n",
        "      <td>  72</td>\n",
        "      <td>  63</td>\n",
        "      <td>  67</td>\n",
        "      <td>  68</td>\n",
        "      <td> 28</td>\n",
        "      <td> 90024</td>\n",
        "      <td>   -118.4402367409997</td>\n",
        "      <td>  34.06136215000049</td>\n",
        "    </tr>\n",
        "    <tr>\n",
        "      <th>45</th>\n",
        "      <td> 102</td>\n",
        "      <td> 103</td>\n",
        "      <td>  95</td>\n",
        "      <td>  95</td>\n",
        "      <td>  91</td>\n",
        "      <td>  90</td>\n",
        "      <td>  91</td>\n",
        "      <td>  9</td>\n",
        "      <td> 90057</td>\n",
        "      <td>  -118.27713826999968</td>\n",
        "      <td>  34.06211383600049</td>\n",
        "    </tr>\n",
        "    <tr>\n",
        "      <th>57</th>\n",
        "      <td>  79</td>\n",
        "      <td>  79</td>\n",
        "      <td>  81</td>\n",
        "      <td>  87</td>\n",
        "      <td>  86</td>\n",
        "      <td>  90</td>\n",
        "      <td>  88</td>\n",
        "      <td>  9</td>\n",
        "      <td> 90094</td>\n",
        "      <td>  -118.42532902799968</td>\n",
        "      <td> 33.972932598000455</td>\n",
        "    </tr>\n",
        "    <tr>\n",
        "      <th>77</th>\n",
        "      <td>  70</td>\n",
        "      <td>  79</td>\n",
        "      <td>  84</td>\n",
        "      <td>  83</td>\n",
        "      <td>  73</td>\n",
        "      <td>  74</td>\n",
        "      <td>  66</td>\n",
        "      <td> 11</td>\n",
        "      <td> 90744</td>\n",
        "      <td>  -118.26266940199969</td>\n",
        "      <td>  33.78372064300049</td>\n",
        "    </tr>\n",
        "  </tbody>\n",
        "</table>\n",
        "</div>"
       ],
       "metadata": {},
       "output_type": "pyout",
       "prompt_number": 78,
       "text": [
        "    FY 05/06  FY 06/07  FY 07/08  FY 08/09  FY 09/10  FY 10/11  FY 11/12  \\\n",
        "4         74        74        67        65        63        63        63   \n",
        "8        138       138       129       128       119       120       119   \n",
        "10       117       119       107       106       101       102       101   \n",
        "14       160       164       175       176       164       157       154   \n",
        "17        98        99        93        90        84        82        82   \n",
        "20        76        76        74        72        63        67        68   \n",
        "45       102       103        95        95        91        90        91   \n",
        "57        79        79        81        87        86        90        88   \n",
        "77        70        79        84        83        73        74        66   \n",
        "\n",
        "    FY 12/13    Zip             Longitude            Latitude  \n",
        "4         25  90005   -118.30301712299968   34.05907233200048  \n",
        "8          9  90010   -118.30969974099969   34.06139256500046  \n",
        "10         8  90012   -118.24204800599972  34.059480762000476  \n",
        "14        11  90017   -118.26338632799968   34.05230281300044  \n",
        "17        37  90020   -118.30164844599972   34.06636325100044  \n",
        "20        28  90024    -118.4402367409997   34.06136215000049  \n",
        "45         9  90057   -118.27713826999968   34.06211383600049  \n",
        "57         9  90094   -118.42532902799968  33.972932598000455  \n",
        "77        11  90744   -118.26266940199969   33.78372064300049  "
       ]
      }
     ],
     "prompt_number": 78
    },
    {
     "cell_type": "markdown",
     "metadata": {},
     "source": [
      "Big water users shown above."
     ]
    },
    {
     "cell_type": "code",
     "collapsed": false,
     "input": [
      "data[data['FY 12/13']>55]"
     ],
     "language": "python",
     "metadata": {},
     "outputs": [
      {
       "html": [
        "<div style=\"max-height:1000px;max-width:1500px;overflow:auto;\">\n",
        "<table border=\"1\" class=\"dataframe\">\n",
        "  <thead>\n",
        "    <tr style=\"text-align: right;\">\n",
        "      <th></th>\n",
        "      <th>FY 05/06</th>\n",
        "      <th>FY 06/07</th>\n",
        "      <th>FY 07/08</th>\n",
        "      <th>FY 08/09</th>\n",
        "      <th>FY 09/10</th>\n",
        "      <th>FY 10/11</th>\n",
        "      <th>FY 11/12</th>\n",
        "      <th>FY 12/13</th>\n",
        "      <th>Zip</th>\n",
        "      <th>Longitude</th>\n",
        "      <th>Latitude</th>\n",
        "    </tr>\n",
        "  </thead>\n",
        "  <tbody>\n",
        "    <tr>\n",
        "      <th>59</th>\n",
        "      <td> 37</td>\n",
        "      <td> 51</td>\n",
        "      <td> 56</td>\n",
        "      <td> 55</td>\n",
        "      <td> 50</td>\n",
        "      <td> 26</td>\n",
        "      <td> 42</td>\n",
        "      <td> 70</td>\n",
        "      <td> 90212</td>\n",
        "      <td>  -118.40025834499971</td>\n",
        "      <td> 34.063843148000444</td>\n",
        "    </tr>\n",
        "  </tbody>\n",
        "</table>\n",
        "</div>"
       ],
       "metadata": {},
       "output_type": "pyout",
       "prompt_number": 79,
       "text": [
        "    FY 05/06  FY 06/07  FY 07/08  FY 08/09  FY 09/10  FY 10/11  FY 11/12  \\\n",
        "59        37        51        56        55        50        26        42   \n",
        "\n",
        "    FY 12/13    Zip             Longitude            Latitude  \n",
        "59        70  90212   -118.40025834499971  34.063843148000444  "
       ]
      }
     ],
     "prompt_number": 79
    },
    {
     "cell_type": "markdown",
     "metadata": {},
     "source": [
      "This is the blue line identified in the plot, the one that has increased water use over the recent years."
     ]
    },
    {
     "cell_type": "code",
     "collapsed": false,
     "input": [
      "plt.plot(range(6,14),data.iloc[59][0:-3])\n",
      "plt.title(\"Use of water in 90212 zip area\")\n",
      "plt.xlabel(\"Years\")"
     ],
     "language": "python",
     "metadata": {},
     "outputs": [
      {
       "metadata": {},
       "output_type": "pyout",
       "prompt_number": 83,
       "text": [
        "<matplotlib.text.Text at 0x10b8a7b10>"
       ]
      },
      {
       "metadata": {},
       "output_type": "display_data",
       "png": "[encoded data removed]",
       "text": [
        "<matplotlib.figure.Figure at 0x10a810a90>"
       ]
      }
     ],
     "prompt_number": 83
    },
    {
     "cell_type": "code",
     "collapsed": false,
     "input": [],
     "language": "python",
     "metadata": {},
     "outputs": []
    }
   ],
   "metadata": {}
  }
 ]
}